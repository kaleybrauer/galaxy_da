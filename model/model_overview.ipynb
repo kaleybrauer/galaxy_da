{
 "cells": [
  {
   "cell_type": "markdown",
   "metadata": {
    "id": "MFR1N8Rmv1JR"
   },
   "source": [
    "## The goal of this notebook is to train a model on a simulated dataset (TNG50) with morphology labels and adapt that model to run on real data (DESI observations)."
   ]
  },
  {
   "cell_type": "markdown",
   "metadata": {
    "id": "NIYN7VdPxOup"
   },
   "source": [
    "> #### 1. Import the necessary libraries"
   ]
  },
  {
   "cell_type": "code",
   "execution_count": 3,
   "metadata": {
    "id": "P2YtthQCxCq-"
   },
   "outputs": [],
   "source": [
    "from pathlib import Path\n",
    "import os, random\n",
    "from tqdm import tqdm\n",
    "\n",
    "import pandas as pd\n",
    "from PIL import Image\n",
    "import matplotlib.pyplot as plt\n",
    "import seaborn as sns\n",
    "import numpy as np\n",
    "import copy\n",
    "\n",
    "import torch\n",
    "from torch import nn, optim\n",
    "from torch.utils.data import Dataset, DataLoader\n",
    "from torchvision import transforms\n",
    "from torch.utils.data import random_split\n",
    "\n",
    "def set_all_seeds(seed=42):\n",
    "\n",
    "    os.environ[\"PYTHONHASHSEED\"] = str(seed)  # For Python's hash seed\n",
    "    random.seed(seed)\n",
    "    np.random.seed(seed)\n",
    "    torch.manual_seed(seed)\n",
    "    torch.cuda.manual_seed(seed)\n",
    "    torch.cuda.manual_seed_all(seed)\n",
    "\n",
    "    torch.backends.cudnn.deterministic = True\n",
    "    torch.backends.cudnn.benchmark = False\n",
    "\n",
    "    # Optional: enforce deterministic algorithms where possible\n",
    "    torch.use_deterministic_algorithms(True, warn_only=True)\n",
    "set_all_seeds()"
   ]
  },
  {
   "cell_type": "markdown",
   "metadata": {
    "id": "6XMmBjjqx-bp"
   },
   "source": [
    "> #### 2. Save the paths to the image and label folders"
   ]
  },
  {
   "cell_type": "code",
   "execution_count": 23,
   "metadata": {
    "id": "-9n_uDSYyH_J"
   },
   "outputs": [],
   "source": [
    "# Add paths to all the relevant datasets and images\n",
    "# Download images according to the README\n",
    "HOME = Path(\"../data\")\n",
    "source_dataset_images = HOME / \"source/galaxy_images_rgb\"\n",
    "source_dataset_labels = HOME / \"source/galaxy_labels.csv\"\n",
    "target_dataset_images= HOME / \"target/gz_desi\"\n",
    "target_dataset_labels= HOME / \"target/gz_desi_labels.csv\""
   ]
  },
  {
   "cell_type": "markdown",
   "metadata": {
    "id": "Oc6-RIdzzbCo"
   },
   "source": [
    "> #### 3. Print both the datasets using pandas to have a better view of the data in both of them"
   ]
  },
  {
   "cell_type": "markdown",
   "metadata": {
    "id": "NnzLHMtFz21p"
   },
   "source": [
    "> ##### For the source dataset"
   ]
  },
  {
   "cell_type": "code",
   "execution_count": 5,
   "metadata": {
    "colab": {
     "base_uri": "https://localhost:8080/",
     "height": 206
    },
    "id": "_R6WBfsjzShT",
    "outputId": "dc9c23bb-5d3f-4fa5-f2bc-b8989adc03ef"
   },
   "outputs": [
    {
     "data": {
      "text/html": [
       "<div>\n",
       "<style scoped>\n",
       "    .dataframe tbody tr th:only-of-type {\n",
       "        vertical-align: middle;\n",
       "    }\n",
       "\n",
       "    .dataframe tbody tr th {\n",
       "        vertical-align: top;\n",
       "    }\n",
       "\n",
       "    .dataframe thead th {\n",
       "        text-align: right;\n",
       "    }\n",
       "</style>\n",
       "<table border=\"1\" class=\"dataframe\">\n",
       "  <thead>\n",
       "    <tr style=\"text-align: right;\">\n",
       "      <th></th>\n",
       "      <th>subhalo_id</th>\n",
       "      <th>mass</th>\n",
       "      <th>star_forming</th>\n",
       "      <th>has_agn</th>\n",
       "      <th>is_compact</th>\n",
       "      <th>metallicity</th>\n",
       "      <th>classification</th>\n",
       "      <th>is_metalrich</th>\n",
       "    </tr>\n",
       "  </thead>\n",
       "  <tbody>\n",
       "    <tr>\n",
       "      <th>0</th>\n",
       "      <td>0</td>\n",
       "      <td>3.682930e+12</td>\n",
       "      <td>False</td>\n",
       "      <td>False</td>\n",
       "      <td>True</td>\n",
       "      <td>0.035705</td>\n",
       "      <td>elliptical</td>\n",
       "      <td>1</td>\n",
       "    </tr>\n",
       "    <tr>\n",
       "      <th>1</th>\n",
       "      <td>1</td>\n",
       "      <td>2.673136e+11</td>\n",
       "      <td>False</td>\n",
       "      <td>False</td>\n",
       "      <td>True</td>\n",
       "      <td>0.034155</td>\n",
       "      <td>spiral</td>\n",
       "      <td>1</td>\n",
       "    </tr>\n",
       "    <tr>\n",
       "      <th>2</th>\n",
       "      <td>2</td>\n",
       "      <td>1.302537e+11</td>\n",
       "      <td>False</td>\n",
       "      <td>False</td>\n",
       "      <td>True</td>\n",
       "      <td>0.028685</td>\n",
       "      <td>elliptical</td>\n",
       "      <td>1</td>\n",
       "    </tr>\n",
       "    <tr>\n",
       "      <th>3</th>\n",
       "      <td>8</td>\n",
       "      <td>2.528330e+10</td>\n",
       "      <td>True</td>\n",
       "      <td>True</td>\n",
       "      <td>True</td>\n",
       "      <td>0.023264</td>\n",
       "      <td>spiral</td>\n",
       "      <td>1</td>\n",
       "    </tr>\n",
       "    <tr>\n",
       "      <th>4</th>\n",
       "      <td>11</td>\n",
       "      <td>2.539410e+10</td>\n",
       "      <td>True</td>\n",
       "      <td>False</td>\n",
       "      <td>False</td>\n",
       "      <td>0.021454</td>\n",
       "      <td>spiral</td>\n",
       "      <td>1</td>\n",
       "    </tr>\n",
       "  </tbody>\n",
       "</table>\n",
       "</div>"
      ],
      "text/plain": [
       "   subhalo_id          mass  star_forming  has_agn  is_compact  metallicity  \\\n",
       "0           0  3.682930e+12         False    False        True     0.035705   \n",
       "1           1  2.673136e+11         False    False        True     0.034155   \n",
       "2           2  1.302537e+11         False    False        True     0.028685   \n",
       "3           8  2.528330e+10          True     True        True     0.023264   \n",
       "4          11  2.539410e+10          True    False       False     0.021454   \n",
       "\n",
       "  classification  is_metalrich  \n",
       "0     elliptical             1  \n",
       "1         spiral             1  \n",
       "2     elliptical             1  \n",
       "3         spiral             1  \n",
       "4         spiral             1  "
      ]
     },
     "execution_count": 5,
     "metadata": {},
     "output_type": "execute_result"
    }
   ],
   "source": [
    "df_source = pd.read_csv(source_dataset_labels)\n",
    "df_source.head()"
   ]
  },
  {
   "cell_type": "markdown",
   "metadata": {
    "id": "5p0yzHMsz2hm"
   },
   "source": [
    "> ##### For the target dataset"
   ]
  },
  {
   "cell_type": "code",
   "execution_count": 6,
   "metadata": {
    "colab": {
     "base_uri": "https://localhost:8080/",
     "height": 224
    },
    "id": "yEH34zx_z3dD",
    "outputId": "3cbafdc9-feb5-4992-99db-ee53323be045"
   },
   "outputs": [
    {
     "data": {
      "text/html": [
       "<div>\n",
       "<style scoped>\n",
       "    .dataframe tbody tr th:only-of-type {\n",
       "        vertical-align: middle;\n",
       "    }\n",
       "\n",
       "    .dataframe tbody tr th {\n",
       "        vertical-align: top;\n",
       "    }\n",
       "\n",
       "    .dataframe thead th {\n",
       "        text-align: right;\n",
       "    }\n",
       "</style>\n",
       "<table border=\"1\" class=\"dataframe\">\n",
       "  <thead>\n",
       "    <tr style=\"text-align: right;\">\n",
       "      <th></th>\n",
       "      <th>subhalo_id</th>\n",
       "      <th>dataset_name</th>\n",
       "      <th>ra</th>\n",
       "      <th>dec</th>\n",
       "      <th>classification</th>\n",
       "    </tr>\n",
       "  </thead>\n",
       "  <tbody>\n",
       "    <tr>\n",
       "      <th>0</th>\n",
       "      <td>31735_172.png</td>\n",
       "      <td>gz_desi</td>\n",
       "      <td>68.185032</td>\n",
       "      <td>-64.865396</td>\n",
       "      <td>spiral</td>\n",
       "    </tr>\n",
       "    <tr>\n",
       "      <th>1</th>\n",
       "      <td>348398_4061.png</td>\n",
       "      <td>gz_desi</td>\n",
       "      <td>187.567874</td>\n",
       "      <td>3.072957</td>\n",
       "      <td>spiral</td>\n",
       "    </tr>\n",
       "    <tr>\n",
       "      <th>2</th>\n",
       "      <td>441607_3986.png</td>\n",
       "      <td>gz_desi</td>\n",
       "      <td>244.032731</td>\n",
       "      <td>19.569928</td>\n",
       "      <td>elliptical</td>\n",
       "    </tr>\n",
       "    <tr>\n",
       "      <th>3</th>\n",
       "      <td>331882_4124.png</td>\n",
       "      <td>gz_desi</td>\n",
       "      <td>18.682824</td>\n",
       "      <td>0.286017</td>\n",
       "      <td>spiral</td>\n",
       "    </tr>\n",
       "    <tr>\n",
       "      <th>4</th>\n",
       "      <td>471791_4207.png</td>\n",
       "      <td>gz_desi</td>\n",
       "      <td>114.086487</td>\n",
       "      <td>25.305936</td>\n",
       "      <td>elliptical</td>\n",
       "    </tr>\n",
       "  </tbody>\n",
       "</table>\n",
       "</div>"
      ],
      "text/plain": [
       "        subhalo_id dataset_name          ra        dec classification\n",
       "0    31735_172.png      gz_desi   68.185032 -64.865396         spiral\n",
       "1  348398_4061.png      gz_desi  187.567874   3.072957         spiral\n",
       "2  441607_3986.png      gz_desi  244.032731  19.569928     elliptical\n",
       "3  331882_4124.png      gz_desi   18.682824   0.286017         spiral\n",
       "4  471791_4207.png      gz_desi  114.086487  25.305936     elliptical"
      ]
     },
     "execution_count": 6,
     "metadata": {},
     "output_type": "execute_result"
    }
   ],
   "source": [
    "df_target = pd.read_csv(target_dataset_labels)\n",
    "df_target.head()"
   ]
  },
  {
   "cell_type": "code",
   "execution_count": 24,
   "metadata": {
    "colab": {
     "base_uri": "https://localhost:8080/",
     "height": 407
    },
    "id": "hQBThzSGTba_",
    "outputId": "db9b867b-84d6-4ddf-bf8c-7b0622434ea9"
   },
   "outputs": [
    {
     "data": {
      "image/png": "[encoded data removed]",
      "text/plain": [
       "<Figure size 504x288 with 1 Axes>"
      ]
     },
     "metadata": {
      "needs_background": "light"
     },
     "output_type": "display_data"
    }
   ],
   "source": [
    "# Visualizing the different distributions of classes\n",
    "\n",
    "df_source_ = df_source.copy()\n",
    "df_target_ = df_target.copy()\n",
    "df_source_[\"domain\"] = \"Source\"\n",
    "df_target_[\"domain\"] = \"Target\"\n",
    "\n",
    "# Combine and pick a consistent class order across both sets\n",
    "df_both = pd.concat([df_source_, df_target_[0:2000]], ignore_index=True)\n",
    "order = df_both[\"classification\"].value_counts().index  # order by total count (combined)\n",
    "\n",
    "plt.figure(figsize=(7, 4))\n",
    "sns.countplot(\n",
    "    data=df_both,\n",
    "    x=\"classification\",\n",
    "    order=order,\n",
    "    hue=\"domain\",       \n",
    "    palette=\"Set1\"        \n",
    ")\n",
    "plt.xlabel(\"Morphology\")\n",
    "plt.ylabel(\"Count\")\n",
    "plt.legend(title=\"\")\n",
    "plt.tight_layout()\n",
    "plt.show()"
   ]
  },
  {
   "cell_type": "markdown",
   "metadata": {
    "id": "zn4ekMzL1Gnw"
   },
   "source": [
    "> #### 4. Now we model the data"
   ]
  },
  {
   "cell_type": "markdown",
   "metadata": {
    "id": "Ob-nLfjJ8GwQ"
   },
   "source": [
    "> ##### 4.1 For the source dataset"
   ]
  },
  {
   "cell_type": "code",
   "execution_count": 8,
   "metadata": {
    "id": "SdBVYgEn1Jnl"
   },
   "outputs": [],
   "source": [
    "# Modeling\n",
    "\n",
    "batch_size = 32\n",
    "images_size = (64, 64)\n",
    "\n",
    "def give_labels():\n",
    "    CLASSES = [\"elliptical\", \"irregular\", \"spiral\"] \n",
    "    label2idx = {c:i for i,c in enumerate(CLASSES)}\n",
    "    idx2label = {i:c for c,i in label2idx.items()}\n",
    "    \n",
    "    return label2idx, idx2label\n",
    "\n",
    "# ======For source Dataset class ======\n",
    "class GalaxyDataset_source(Dataset):\n",
    "    def __init__(self, csv_file, img_dir, transform=None, include_rotations=True):\n",
    "        self.df = pd.read_csv(csv_file)\n",
    "        self.img_dir = img_dir\n",
    "        self.transform = transform\n",
    "        self.rotations = [0, 90, 180, 270]\n",
    "        self.include_rotations = include_rotations\n",
    "\n",
    "        # Map string labels to integers\n",
    "        self.label2idx, self.idx2label = give_labels()\n",
    "        self.df[\"label\"] = self.df[\"classification\"].str.strip().str.lower().map(self.label2idx)\n",
    "\n",
    "    def __len__(self):\n",
    "        if self.include_rotations:\n",
    "          length = len(self.df) * 8  # 4 rotations * 2 flips\n",
    "        else:\n",
    "          length = len(self.df)\n",
    "\n",
    "        return length\n",
    "\n",
    "    def __getitem__(self, idx):\n",
    "        if self.include_rotations:\n",
    "          base_idx = idx // 8\n",
    "          aug_idx = idx % 8\n",
    "\n",
    "          row = self.df.iloc[base_idx]\n",
    "          img_path = self.img_dir / f\"subhalo_{row['subhalo_id']}.png\"\n",
    "          label = int(row[\"label\"])\n",
    "          image = Image.open(img_path).convert(\"RGB\")\n",
    "\n",
    "          rotation = self.rotations[aug_idx % 4]\n",
    "          flip = (aug_idx // 4) == 1\n",
    "\n",
    "          image = image.rotate(rotation)\n",
    "          if flip:\n",
    "              image = image.transpose(Image.FLIP_LEFT_RIGHT)\n",
    "        else:\n",
    "          row = self.df.iloc[idx]\n",
    "          img_path = self.img_dir / f\"subhalo_{row['subhalo_id']}.png\"\n",
    "\n",
    "          image = Image.open(img_path).convert(\"RGB\")\n",
    "          label = int(row[\"label\"])\n",
    "\n",
    "        if self.transform:\n",
    "            image = self.transform(image)\n",
    "\n",
    "        return image, label\n",
    "\n",
    "label2idx, idx2label = give_labels()\n",
    "elliptical_idx = label2idx[\"elliptical\"]\n",
    "\n",
    "num_classes = len(label2idx)\n",
    "class_weights = torch.ones(num_classes)\n",
    "class_weights[elliptical_idx] = 3.0 "
   ]
  },
  {
   "cell_type": "markdown",
   "metadata": {
    "id": "UzPWovFE7_A7"
   },
   "source": [
    "> ##### 4.2 For the target dataset\n"
   ]
  },
  {
   "cell_type": "code",
   "execution_count": 9,
   "metadata": {
    "id": "QsHXOAOu7_pJ"
   },
   "outputs": [],
   "source": [
    "# ======For target Dataset class ======\n",
    "from pathlib import Path\n",
    "\n",
    "class GalaxyDataset_target(Dataset):\n",
    "    def __init__(self, csv_file, img_dir, transform=None):\n",
    "        self.df = pd.read_csv(csv_file)\n",
    "        self.img_dir = Path(img_dir)\n",
    "        self.transform = transform\n",
    "\n",
    "        # Map string labels to integers\n",
    "        self.label2idx, self.idx2label = give_labels()\n",
    "        self.df[\"label\"] = self.df[\"classification\"].str.strip().str.lower().map(self.label2idx)\n",
    "\n",
    "\n",
    "    def __len__(self):\n",
    "        return len(self.df)\n",
    "\n",
    "    def __getitem__(self, idx):\n",
    "      row = self.df.iloc[idx]\n",
    "      img_path = self.img_dir / row[\"subhalo_id\"]\n",
    "\n",
    "      image = Image.open(img_path).convert(\"RGB\")\n",
    "      label = int(row[\"label\"])\n",
    "\n",
    "      if self.transform:\n",
    "        image = self.transform(image)\n",
    "\n",
    "      return image, label"
   ]
  },
  {
   "cell_type": "markdown",
   "metadata": {
    "id": "PSRJaxty1RuU"
   },
   "source": [
    "> #### 5. Compute the dataset mean and std. deviation (σ) for both the datasets so that we can normalize the images"
   ]
  },
  {
   "cell_type": "markdown",
   "metadata": {
    "id": "ek0rg2Bj6Emm"
   },
   "source": [
    "> ##### For the source dataset"
   ]
  },
  {
   "cell_type": "code",
   "execution_count": 15,
   "metadata": {
    "colab": {
     "base_uri": "https://localhost:8080/"
    },
    "id": "WpJIUAQa1feG",
    "outputId": "b6ac2836-2618-4cb4-a5c8-f16788a55bf0"
   },
   "outputs": [
    {
     "name": "stderr",
     "output_type": "stream",
     "text": [
      "100%|██████████| 388/388 [01:10<00:00,  5.52it/s]"
     ]
    },
    {
     "name": "stdout",
     "output_type": "stream",
     "text": [
      "\n",
      "Source Dataset mean: tensor([0.0989, 0.1074, 0.0828])\n",
      "Source Dataset std:  tensor([0.1939, 0.2041, 0.1765])\n"
     ]
    },
    {
     "name": "stderr",
     "output_type": "stream",
     "text": [
      "\n"
     ]
    }
   ],
   "source": [
    "# Compute dataset-specific mean and std\n",
    "\n",
    "init_transform_source = transforms.Compose([\n",
    "    transforms.Resize(images_size),  # resize each image\n",
    "    transforms.ToTensor()            # Converts to tensor and scales to [0, 1]\n",
    "])\n",
    "raw_dataset_source = GalaxyDataset_source(source_dataset_labels, source_dataset_images, transform=init_transform_source)\n",
    "\n",
    "loader = DataLoader(raw_dataset_source, batch_size=batch_size, shuffle=False, num_workers=2)\n",
    "\n",
    "# Initialize accumulators\n",
    "mean_source = torch.zeros(3)   # For RGB images\n",
    "sumsq_source = torch.zeros(3)\n",
    "num_pixels_source = 0\n",
    "\n",
    "# Loop through dataset and compute stats\n",
    "for images, _ in tqdm(loader):\n",
    "    B, C, H, W = images.shape\n",
    "    num_pixels_source += B * H * W\n",
    "\n",
    "    mean_source += images.sum(dim=[0, 2, 3])           # sum over batch, height, width\n",
    "    sumsq_source += (images ** 2).sum(dim=[0, 2, 3])    # sum of squares for std computation\n",
    "\n",
    "# Final computation of mean and std\n",
    "mean_source /= num_pixels_source\n",
    "std_source = torch.sqrt(sumsq_source / num_pixels_source - mean_source ** 2)\\\n",
    "\n",
    "# Print results\n",
    "print(f\"\\nSource Dataset mean: {mean_source}\")\n",
    "print(f\"Source Dataset std:  {std_source}\")\n"
   ]
  },
  {
   "cell_type": "markdown",
   "metadata": {
    "id": "IUq2wz8C6I4y"
   },
   "source": [
    "> ##### For the target dataset"
   ]
  },
  {
   "cell_type": "code",
   "execution_count": 14,
   "metadata": {
    "colab": {
     "base_uri": "https://localhost:8080/"
    },
    "id": "amLmALh76O4s",
    "outputId": "af0d8640-cca0-4549-ef18-0004061f475d"
   },
   "outputs": [
    {
     "name": "stderr",
     "output_type": "stream",
     "text": [
      "100%|██████████| 313/313 [01:14<00:00,  4.19it/s]"
     ]
    },
    {
     "name": "stdout",
     "output_type": "stream",
     "text": [
      "\n",
      " Target Dataset mean: tensor([0.1060, 0.0990, 0.0967])\n",
      " Target Dataset std:  tensor([0.0897, 0.0852, 0.0812])\n"
     ]
    },
    {
     "name": "stderr",
     "output_type": "stream",
     "text": [
      "\n"
     ]
    }
   ],
   "source": [
    "# Compute dataset-specific mean and std\n",
    "\n",
    "init_transform_target = transforms.Compose([\n",
    "    transforms.Resize(images_size),  # Corrected: resize each image to (28, 28)\n",
    "    transforms.ToTensor()            # Converts to tensor and scales to [0, 1]\n",
    "])\n",
    "\n",
    "raw_dataset_target = GalaxyDataset_target(target_dataset_labels, target_dataset_images, transform=init_transform_target)\n",
    "\n",
    "loader = DataLoader(raw_dataset_target, batch_size=batch_size, shuffle=False, num_workers=2)\n",
    "\n",
    "# Initialize accumulators\n",
    "mean_target = torch.zeros(3)   # For RGB images\n",
    "sumsq_target = torch.zeros(3)\n",
    "num_pixels_target = 0\n",
    "\n",
    "# Loop through dataset and compute stats\n",
    "for images, _ in tqdm(loader):\n",
    "    B, C, H, W = images.shape\n",
    "    num_pixels_target += B * H * W\n",
    "\n",
    "    mean_target += images.sum(dim=[0, 2, 3])           # sum over batch, height, width\n",
    "    sumsq_target += (images ** 2).sum(dim=[0, 2, 3])    # sum of squares for std computation\n",
    "\n",
    "# Final computation of mean and std\n",
    "mean_target /= num_pixels_target\n",
    "std_target = torch.sqrt(sumsq_target / num_pixels_target - mean_target ** 2)\n",
    "\n",
    "print(f\"\\n Target Dataset mean: {mean_target}\")\n",
    "print(f\" Target Dataset std:  {std_target}\")"
   ]
  },
  {
   "cell_type": "markdown",
   "metadata": {
    "id": "p9e6lpq359VN"
   },
   "source": [
    "> #### 6. Create the final dataset"
   ]
  },
  {
   "cell_type": "markdown",
   "metadata": {
    "id": "JXFRApl18Myv"
   },
   "source": [
    "> ##### 6.1 For the source dataset"
   ]
  },
  {
   "cell_type": "code",
   "execution_count": 16,
   "metadata": {
    "id": "B2kv60DS59tO"
   },
   "outputs": [],
   "source": [
    "from torchvision.transforms import InterpolationMode\n",
    "\n",
    "# Now create final dataset with z-score normalization\n",
    "final_transform_source = transforms.Compose([\n",
    "    transforms.Resize(images_size, interpolation=InterpolationMode.BILINEAR, antialias=True),\n",
    "    transforms.ToTensor(),\n",
    "    transforms.Normalize(mean=mean_source.tolist(), std=std_source.tolist())\n",
    "])\n",
    "\n",
    "dataset_source = GalaxyDataset_source(source_dataset_labels,source_dataset_images, transform=final_transform_source)\n",
    "dataloader_source = DataLoader(dataset_source, batch_size=batch_size, shuffle=True, num_workers=1)\n",
    "\n",
    "# 90% train, 10% test\n",
    "train_size = int(0.9 * len(dataset_source))\n",
    "val_size = len(dataset_source) - train_size\n",
    "\n",
    "g = torch.Generator().manual_seed(42)\n",
    "train_dataset_source, val_dataset_source = torch.utils.data.random_split(dataset_source, [train_size, val_size], generator=g)\n",
    "\n",
    "train_loader_source = DataLoader(train_dataset_source, batch_size=batch_size, shuffle=True, num_workers=1)\n",
    "val_loader_source   = DataLoader(val_dataset_source, batch_size=batch_size, shuffle=False, num_workers=1)"
   ]
  },
  {
   "cell_type": "markdown",
   "metadata": {
    "id": "TvkD_GKP8RrL"
   },
   "source": [
    "> ##### 6.2 For the target dataset"
   ]
  },
  {
   "cell_type": "code",
   "execution_count": 17,
   "metadata": {
    "id": "aQMYXjPL8VUq"
   },
   "outputs": [],
   "source": [
    "from sklearn.model_selection import StratifiedShuffleSplit\n",
    "from torch.utils.data import Subset\n",
    "from torchvision.transforms import InterpolationMode\n",
    "\n",
    "zoom = 1.4  # to zoom in a little bit on the galaxies\n",
    "zoomed_size = (int(images_size[0]*zoom), int(images_size[1]*zoom))\n",
    "\n",
    "\n",
    "final_transform_target = transforms.Compose([\n",
    "    transforms.Resize(zoomed_size, interpolation=InterpolationMode.BILINEAR, antialias=True),\n",
    "    transforms.CenterCrop(images_size),  # crops back down → effective zoom-in\n",
    "    transforms.ToTensor(),\n",
    "    transforms.Normalize(mean=mean_target.tolist(), std=std_target.tolist()),\n",
    "])\n",
    "\n",
    "dataset_target = GalaxyDataset_target(target_dataset_labels, target_dataset_images, transform=final_transform_target)\n",
    "dataloader_target = DataLoader(dataset_target, batch_size=32, shuffle=True, num_workers=1)\n",
    "\n",
    "# 90% train, 10% val\n",
    "y = dataset_target.df[\"label\"].to_numpy()\n",
    "sss = StratifiedShuffleSplit(n_splits=1, test_size=0.1, random_state=42)\n",
    "train_idx, val_idx = next(sss.split(np.zeros(len(y)), y))\n",
    "\n",
    "train_dataset_target = Subset(dataset_target, train_idx)\n",
    "val_dataset_target   = Subset(dataset_target,   val_idx)\n",
    "\n",
    "train_loader_target = DataLoader(train_dataset_target, batch_size=32, shuffle=True, num_workers=1)\n",
    "val_loader_target   = DataLoader(val_dataset_target, batch_size=32, shuffle=False, num_workers=1)\n"
   ]
  },
  {
   "cell_type": "markdown",
   "metadata": {
    "id": "SsrV2ynm8dtf"
   },
   "source": [
    "> ##### A Quick Sanity check"
   ]
  },
  {
   "cell_type": "code",
   "execution_count": 18,
   "metadata": {
    "colab": {
     "base_uri": "https://localhost:8080/"
    },
    "id": "uqMVDGbd8gZN",
    "outputId": "b8accc1b-e951-4b15-f16a-9476524b3978"
   },
   "outputs": [
    {
     "name": "stdout",
     "output_type": "stream",
     "text": [
      "Batch image tensor shape: torch.Size([32, 3, 64, 64])\n",
      "Batch labels: tensor([0, 2, 2, 2, 2, 2, 2, 1, 0, 2, 2, 2, 2, 2, 2, 2, 2, 0, 2, 2, 0, 2, 2, 2,\n",
      "        0, 2, 2, 0, 2, 2, 2, 2])\n",
      "Batch image tensor shape: torch.Size([32, 3, 64, 64])\n",
      "Batch labels: tensor([2, 2, 2, 0, 0, 0, 2, 0, 0, 0, 2, 0, 2, 0, 1, 2, 0, 2, 2, 2, 2, 0, 0, 0,\n",
      "        0, 0, 0, 0, 0, 2, 0, 2])\n"
     ]
    }
   ],
   "source": [
    "# Sanity check for source data\n",
    "\n",
    "images_source, labels_source = next(iter(train_loader_source))\n",
    "print(f\"Batch image tensor shape: {images_source.shape}\")\n",
    "print(f\"Batch labels: {labels_source}\")\n",
    "\n",
    "# Sanity check for target data\n",
    "\n",
    "images_target, labels_target = next(iter(train_loader_target))\n",
    "print(f\"Batch image tensor shape: {images_target.shape}\")\n",
    "print(f\"Batch labels: {labels_target}\")"
   ]
  },
  {
   "cell_type": "markdown",
   "metadata": {
    "id": "WJX7u-mr8pPq"
   },
   "source": [
    "> #### 7. Plot some images with labels for visualisation"
   ]
  },
  {
   "cell_type": "markdown",
   "metadata": {
    "id": "m6W6R5Ha8qF1"
   },
   "source": [
    "> ##### 7.1 For the source dataset"
   ]
  },
  {
   "cell_type": "code",
   "execution_count": 19,
   "metadata": {
    "colab": {
     "base_uri": "https://localhost:8080/",
     "height": 282
    },
    "id": "5sJPGovM8plk",
    "outputId": "a1c15bbd-6d66-4d23-f2b7-2a01460cfd03"
   },
   "outputs": [
    {
     "data": {
      "image/png": "[encoded data removed]",
      "text/plain": [
       "<Figure size 1440x288 with 5 Axes>"
      ]
     },
     "metadata": {
      "needs_background": "light"
     },
     "output_type": "display_data"
    }
   ],
   "source": [
    "fig, axes = plt.subplots(1, 5, figsize=(20, 4))\n",
    "for i in range(5):\n",
    "    # undo normalization: (x * std) + mean\n",
    "    img = images_source[i] * std_source[:, None, None] + mean_source[:, None, None]\n",
    "    img = img.permute(1, 2, 0).clamp(0, 1)  # Convert to HWC and clamp to [0,1]\n",
    "    axes[i].imshow(img)\n",
    "    axes[i].set_title(f\"Label: {dataset_source.idx2label[labels_source[i].item()]}\")\n",
    "    axes[i].axis(\"off\")\n",
    "\n",
    "fig.suptitle(\"Source Dataset\", fontsize=16)\n",
    "plt.show()"
   ]
  },
  {
   "cell_type": "markdown",
   "metadata": {
    "id": "3O6ENEG48qau"
   },
   "source": [
    "> ##### 7.2 For the target dataset"
   ]
  },
  {
   "cell_type": "code",
   "execution_count": 20,
   "metadata": {
    "colab": {
     "base_uri": "https://localhost:8080/",
     "height": 282
    },
    "id": "Gw-ruJ9R8qzN",
    "outputId": "92894d57-83dc-4fb0-dcc0-5ae0e11fe944"
   },
   "outputs": [
    {
     "data": {
      "image/png": "[encoded data removed]",
      "text/plain": [
       "<Figure size 1440x288 with 5 Axes>"
      ]
     },
     "metadata": {
      "needs_background": "light"
     },
     "output_type": "display_data"
    }
   ],
   "source": [
    "fig, axes = plt.subplots(1, 5, figsize=(20, 4))\n",
    "for i in range(5):\n",
    "    # undo normalization: (x * std) + mean\n",
    "    img = images_target[i] * std_target[:, None, None] + mean_target[:, None, None]\n",
    "    img = img.permute(1, 2, 0).clamp(0, 1)  # Convert to HWC and clamp to [0,1]\n",
    "    axes[i].imshow(img)\n",
    "    axes[i].set_title(f\"Label: {dataset_target.idx2label[labels_target[i].item()]}\")\n",
    "    axes[i].axis(\"off\")\n",
    "\n",
    "fig.suptitle(\"Target Dataset\", fontsize=16)\n",
    "plt.show()"
   ]
  },
  {
   "cell_type": "markdown",
   "metadata": {
    "id": "Xo1wyHAmAJPv"
   },
   "source": [
    "> #### 8. Create the model architecture"
   ]
  },
  {
   "cell_type": "code",
   "execution_count": 21,
   "metadata": {
    "id": "wa8m06WHAJdS"
   },
   "outputs": [],
   "source": [
    "import torch.nn.functional as F\n",
    "\n",
    "class CNN(nn.Module):\n",
    "    def __init__(self, num_classes=3, feature_dim=128):\n",
    "        super().__init__()\n",
    "\n",
    "        # Convolutional feature extractor (unchanged)\n",
    "        self.features = nn.Sequential(\n",
    "            nn.Conv2d(3, 64, kernel_size=3, padding=1),\n",
    "            nn.BatchNorm2d(64), nn.ReLU(inplace=True),\n",
    "            nn.Conv2d(64, 64, kernel_size=3, padding=1),\n",
    "            nn.BatchNorm2d(64), nn.ReLU(inplace=True),\n",
    "            nn.MaxPool2d(2),\n",
    "\n",
    "            nn.Conv2d(64, 128, kernel_size=3, padding=1),\n",
    "            nn.BatchNorm2d(128), nn.ReLU(inplace=True),\n",
    "            nn.Conv2d(128, 128, kernel_size=3, padding=1),\n",
    "            nn.BatchNorm2d(128), nn.ReLU(inplace=True),\n",
    "            nn.MaxPool2d(2),\n",
    "        )\n",
    "\n",
    "        # Size-agnostic pooling → fixed-length embedding\n",
    "        self.avgpool = nn.AdaptiveAvgPool2d(1)  # (B, 128, 1, 1) for any HxW\n",
    "        self.feature_dim = feature_dim          # = 128 after the conv stack\n",
    "\n",
    "        # Classifier\n",
    "        self.classifier = nn.Sequential(\n",
    "            nn.Linear(self.feature_dim, 256),\n",
    "            nn.ReLU(inplace=True),\n",
    "            nn.Dropout(0.5),\n",
    "            nn.Linear(256, 128),\n",
    "            nn.ReLU(inplace=True),\n",
    "            nn.Linear(128, num_classes),\n",
    "        )\n",
    "\n",
    "    def forward(self, x):\n",
    "        fmaps = self.features(x)                # (B, 128, H', W')\n",
    "        z = torch.flatten(self.avgpool(fmaps), 1)  # (B, 128) regardless of input size\n",
    "        out = self.classifier(z)\n",
    "        return out, z\n"
   ]
  },
  {
   "cell_type": "markdown",
   "metadata": {
    "id": "5UZfNyqgB4F6"
   },
   "source": [
    "> #### 9. Train the initial, un-adapted model"
   ]
  },
  {
   "cell_type": "markdown",
   "metadata": {
    "id": "YsHGThn8b-ke"
   },
   "source": [
    "> #### 9.1 Training on just the source dataset"
   ]
  },
  {
   "cell_type": "code",
   "execution_count": 22,
   "metadata": {
    "colab": {
     "base_uri": "https://localhost:8080/"
    },
    "id": "a8orSv6p6l4l",
    "outputId": "c3b02110-564c-4a32-e9c0-9ac8ab1ccfe5"
   },
   "outputs": [
    {
     "name": "stderr",
     "output_type": "stream",
     "text": [
      "Training Source Model:   0%|          | 0/5 [00:00<?, ?it/s]"
     ]
    },
    {
     "name": "stdout",
     "output_type": "stream",
     "text": [
      "Using device: cuda\n"
     ]
    },
    {
     "name": "stderr",
     "output_type": "stream",
     "text": [
      "/n/home03/kbrauer/.local/lib/python3.8/site-packages/torch/autograd/graph.py:769: UserWarning: Deterministic behavior was enabled with either `torch.use_deterministic_algorithms(True)` or `at::Context::setDeterministicAlgorithms(true)`, but this operation is not deterministic because it uses CuBLAS and you have CUDA >= 10.2. To enable deterministic behavior in this case, you must set an environment variable before running your PyTorch application: CUBLAS_WORKSPACE_CONFIG=:4096:8 or CUBLAS_WORKSPACE_CONFIG=:16:8. For more information, go to https://docs.nvidia.com/cuda/cublas/index.html#results-reproducibility (Triggered internally at ../aten/src/ATen/Context.cpp:185.)\n",
      "  return Variable._execution_engine.run_backward(  # Calls into the C++ engine to run the backward pass\n"
     ]
    },
    {
     "name": "stdout",
     "output_type": "stream",
     "text": [
      "Epoch [1/5]  Loss: 0.5644  Accuracy: 75.91%\n"
     ]
    },
    {
     "name": "stderr",
     "output_type": "stream",
     "text": [
      "Training Source Model:  20%|██        | 1/5 [01:40<06:41, 100.33s/it]"
     ]
    },
    {
     "name": "stdout",
     "output_type": "stream",
     "text": [
      "             Test Loss:   0.6760  Accuracy: 66.05%\n",
      "Epoch [2/5]  Loss: 0.5252  Accuracy: 77.25%\n"
     ]
    },
    {
     "name": "stderr",
     "output_type": "stream",
     "text": [
      "Training Source Model:  40%|████      | 2/5 [03:20<05:00, 100.05s/it]"
     ]
    },
    {
     "name": "stdout",
     "output_type": "stream",
     "text": [
      "             Test Loss:   0.7527  Accuracy: 78.63%\n",
      "Epoch [3/5]  Loss: 0.5005  Accuracy: 78.36%\n"
     ]
    },
    {
     "name": "stderr",
     "output_type": "stream",
     "text": [
      "Training Source Model:  60%|██████    | 3/5 [04:59<03:19, 99.93s/it] "
     ]
    },
    {
     "name": "stdout",
     "output_type": "stream",
     "text": [
      "             Test Loss:   0.4756  Accuracy: 78.55%\n",
      "Epoch [4/5]  Loss: 0.5041  Accuracy: 77.87%\n"
     ]
    },
    {
     "name": "stderr",
     "output_type": "stream",
     "text": [
      "Training Source Model:  80%|████████  | 4/5 [06:39<01:39, 99.89s/it]"
     ]
    },
    {
     "name": "stdout",
     "output_type": "stream",
     "text": [
      "             Test Loss:   0.5295  Accuracy: 74.68%\n",
      "Epoch [5/5]  Loss: 0.4883  Accuracy: 78.84%\n"
     ]
    },
    {
     "name": "stderr",
     "output_type": "stream",
     "text": [
      "Training Source Model: 100%|██████████| 5/5 [08:19<00:00, 99.91s/it]"
     ]
    },
    {
     "name": "stdout",
     "output_type": "stream",
     "text": [
      "             Test Loss:   0.4570  Accuracy: 78.15%\n"
     ]
    },
    {
     "name": "stderr",
     "output_type": "stream",
     "text": [
      "\n"
     ]
    }
   ],
   "source": [
    "# === Setup device ===\n",
    "device = torch.device(\"cuda\" if torch.cuda.is_available() else \"cpu\")\n",
    "print(\"Using device:\", device)\n",
    "\n",
    "# === Initialize model ===\n",
    "source_model = CNN().to(device) \n",
    "\n",
    "# === Label mapping ===\n",
    "label_map = give_labels()[0]  # Maps class names to integer indices\n",
    "\n",
    "# === Loss function and optimizer ===\n",
    "class_weights = torch.as_tensor(class_weights, dtype=torch.float32, device=device)\n",
    "criterion = nn.CrossEntropyLoss(weight=class_weights)\n",
    "# criterion = nn.CrossEntropyLoss() \n",
    "optimizer = optim.AdamW(source_model.parameters(), lr=1e-3)\n",
    "\n",
    "# === Training configuration ===\n",
    "num_epochs = 5\n",
    "best_model_state = None\n",
    "best_epoch_loss = float('inf')\n",
    "\n",
    "# === Begin training on source dataset ===\n",
    "for epoch in tqdm(range(num_epochs), desc=\"Training Source Model\"):\n",
    "    source_model.train()  # Set model to training mode\n",
    "    epoch_loss = 0.0\n",
    "    correct_predictions = 0\n",
    "    total_samples = 0\n",
    "\n",
    "    # Iterate over batches from the source dataloader\n",
    "    for images, labels in train_loader_source:\n",
    "        images, labels = images.to(device), labels.to(device)\n",
    "\n",
    "        # === Forward pass ===\n",
    "        outputs, _ = source_model(images)  # `_` is the latent vector; we ignore it here\n",
    "        loss = criterion(outputs, labels)\n",
    "\n",
    "        # === Backward pass and optimizer step ===\n",
    "        optimizer.zero_grad()\n",
    "        loss.backward()\n",
    "        optimizer.step()\n",
    "\n",
    "        # === Track the best model ===\n",
    "        if loss.item() < best_epoch_loss:\n",
    "            best_epoch_loss = loss.item()\n",
    "            best_model_state = copy.deepcopy(source_model.state_dict())\n",
    "\n",
    "        # === Track accuracy and loss ===\n",
    "        epoch_loss += loss.item()\n",
    "        _, predicted = outputs.max(1)\n",
    "        total_samples += labels.size(0)\n",
    "        correct_predictions += predicted.eq(labels).sum().item()\n",
    "\n",
    "    # === Epoch Summary ===\n",
    "    accuracy = 100.0 * correct_predictions / total_samples\n",
    "    avg_loss = epoch_loss / len(train_loader_source)\n",
    "    print(f\"Epoch [{epoch+1}/{num_epochs}]  Loss: {avg_loss:.4f}  Accuracy: {accuracy:.2f}%\")\n",
    "\n",
    "    # ===== Validation =====\n",
    "    source_model.eval()\n",
    "    val_loss = 0\n",
    "    val_correct = 0\n",
    "    val_total = 0\n",
    "    with torch.no_grad():\n",
    "        for images, labels in val_loader_source:\n",
    "            images, labels = images.to(device), labels.to(device)\n",
    "            outputs, _ = source_model(images)\n",
    "            loss = criterion(outputs, labels)\n",
    "            val_loss += loss.item()\n",
    "            _, predicted = outputs.max(1)\n",
    "            val_total += labels.size(0)\n",
    "            val_correct += predicted.eq(labels).sum().item()\n",
    "\n",
    "    print(f\"             Test Loss:   {val_loss/len(val_loader_source):.4f}  Accuracy: {100*val_correct/val_total:.2f}%\")\n",
    "\n",
    "## Save the best model state (optional)\n",
    "torch.save(best_model_state, \"source_model_best.pth\")"
   ]
  },
  {
   "cell_type": "code",
   "execution_count": 18,
   "metadata": {
    "id": "4prKZAy-B5MO"
   },
   "outputs": [],
   "source": [
    "from sklearn.metrics import classification_report, confusion_matrix\n",
    "from itertools import islice\n",
    "\n",
    "def evaluate_model(model, dataloader, idx2label, device, name=\"\", max_batches=None):\n",
    "    model.eval()\n",
    "    all_preds, all_labels = [], []\n",
    "\n",
    "    # progress bar with best-effort total\n",
    "    try:\n",
    "        total = len(dataloader)\n",
    "    except TypeError:\n",
    "        total = max_batches\n",
    "\n",
    "    iter_dl = dataloader if max_batches is None else islice(dataloader, max_batches)\n",
    "\n",
    "    with torch.inference_mode():\n",
    "        for images, labels in tqdm(iter_dl, total=total, desc=f\"Evaluating {name}\"):\n",
    "            images, labels = images.to(device, non_blocking=True), labels.to(device, non_blocking=True)\n",
    "            logits, _ = model(images)\n",
    "            preds = torch.argmax(logits, dim=1)  # softmax+argmax is redundant\n",
    "            all_preds.extend(preds.cpu().numpy())\n",
    "            all_labels.extend(labels.cpu().numpy())\n",
    "\n",
    "    all_preds = np.array(all_preds); all_labels = np.array(all_labels)\n",
    "\n",
    "    acc = (all_preds == all_labels).mean() * 100\n",
    "    print(f\"\\n=== Evaluation on {name} ===\")\n",
    "    print(f\"Accuracy: {acc:.2f}%\\n\")\n",
    "    print(\"Classification Report:\")\n",
    "    print(classification_report(\n",
    "        all_labels, all_preds,\n",
    "        target_names=[idx2label[i] for i in range(len(idx2label))]\n",
    "    ))\n",
    "\n",
    "    cm = confusion_matrix(all_labels, all_preds)\n",
    "    plt.figure(figsize=(6, 5))\n",
    "    sns.heatmap(cm, annot=True, fmt='d', cmap='Blues',\n",
    "                xticklabels=[idx2label[i] for i in range(len(idx2label))],\n",
    "                yticklabels=[idx2label[i] for i in range(len(idx2label))])\n",
    "    plt.title(f\"{name} - Confusion Matrix\")\n",
    "    plt.xlabel(\"Predicted\")\n",
    "    plt.ylabel(\"True\")\n",
    "    plt.tight_layout()\n",
    "    plt.show()"
   ]
  },
  {
   "cell_type": "code",
   "execution_count": 99,
   "metadata": {
    "colab": {
     "base_uri": "https://localhost:8080/",
     "height": 1000
    },
    "id": "LqO16fMMB6ld",
    "outputId": "41ae2e42-d4db-443c-80eb-acc64226d259"
   },
   "outputs": [
    {
     "name": "stderr",
     "output_type": "stream",
     "text": [
      "Evaluating Source Domain: 100%|██████████| 39/39 [00:10<00:00,  3.72it/s]"
     ]
    },
    {
     "name": "stdout",
     "output_type": "stream",
     "text": [
      "\n",
      "=== Evaluation on Source Domain ===\n",
      "Accuracy: 77.58%\n",
      "\n",
      "Classification Report:\n",
      "              precision    recall  f1-score   support\n",
      "\n",
      "  elliptical       0.59      0.96      0.73       277\n",
      "   irregular       0.00      0.00      0.00       129\n",
      "      spiral       0.88      0.83      0.86       834\n",
      "\n",
      "    accuracy                           0.78      1240\n",
      "   macro avg       0.49      0.60      0.53      1240\n",
      "weighted avg       0.72      0.78      0.74      1240\n",
      "\n"
     ]
    },
    {
     "name": "stderr",
     "output_type": "stream",
     "text": [
      "\n",
      "/n/helmod/apps/centos7/Core/Anaconda3/2021.05-jupyterood-fasrc01/x/lib/python3.8/site-packages/sklearn/metrics/_classification.py:1245: UndefinedMetricWarning: Precision and F-score are ill-defined and being set to 0.0 in labels with no predicted samples. Use `zero_division` parameter to control this behavior.\n",
      "  _warn_prf(average, modifier, msg_start, len(result))\n",
      "/n/helmod/apps/centos7/Core/Anaconda3/2021.05-jupyterood-fasrc01/x/lib/python3.8/site-packages/sklearn/metrics/_classification.py:1245: UndefinedMetricWarning: Precision and F-score are ill-defined and being set to 0.0 in labels with no predicted samples. Use `zero_division` parameter to control this behavior.\n",
      "  _warn_prf(average, modifier, msg_start, len(result))\n",
      "/n/helmod/apps/centos7/Core/Anaconda3/2021.05-jupyterood-fasrc01/x/lib/python3.8/site-packages/sklearn/metrics/_classification.py:1245: UndefinedMetricWarning: Precision and F-score are ill-defined and being set to 0.0 in labels with no predicted samples. Use `zero_division` parameter to control this behavior.\n",
      "  _warn_prf(average, modifier, msg_start, len(result))\n"
     ]
    },
    {
     "data": {
      "image/png": "[encoded data removed]",
      "text/plain": [
       "<Figure size 432x360 with 2 Axes>"
      ]
     },
     "metadata": {
      "needs_background": "light"
     },
     "output_type": "display_data"
    },
    {
     "name": "stderr",
     "output_type": "stream",
     "text": [
      "Evaluating Target Domain: 100%|██████████| 32/32 [00:10<00:00,  3.07it/s]\n",
      "/n/helmod/apps/centos7/Core/Anaconda3/2021.05-jupyterood-fasrc01/x/lib/python3.8/site-packages/sklearn/metrics/_classification.py:1245: UndefinedMetricWarning: Precision and F-score are ill-defined and being set to 0.0 in labels with no predicted samples. Use `zero_division` parameter to control this behavior.\n",
      "  _warn_prf(average, modifier, msg_start, len(result))\n",
      "/n/helmod/apps/centos7/Core/Anaconda3/2021.05-jupyterood-fasrc01/x/lib/python3.8/site-packages/sklearn/metrics/_classification.py:1245: UndefinedMetricWarning: Precision and F-score are ill-defined and being set to 0.0 in labels with no predicted samples. Use `zero_division` parameter to control this behavior.\n",
      "  _warn_prf(average, modifier, msg_start, len(result))\n",
      "/n/helmod/apps/centos7/Core/Anaconda3/2021.05-jupyterood-fasrc01/x/lib/python3.8/site-packages/sklearn/metrics/_classification.py:1245: UndefinedMetricWarning: Precision and F-score are ill-defined and being set to 0.0 in labels with no predicted samples. Use `zero_division` parameter to control this behavior.\n",
      "  _warn_prf(average, modifier, msg_start, len(result))\n"
     ]
    },
    {
     "name": "stdout",
     "output_type": "stream",
     "text": [
      "\n",
      "=== Evaluation on Target Domain ===\n",
      "Accuracy: 38.80%\n",
      "\n",
      "Classification Report:\n",
      "              precision    recall  f1-score   support\n",
      "\n",
      "  elliptical       0.93      0.02      0.04       593\n",
      "   irregular       0.00      0.00      0.00        31\n",
      "      spiral       0.38      1.00      0.55       376\n",
      "\n",
      "    accuracy                           0.39      1000\n",
      "   macro avg       0.44      0.34      0.20      1000\n",
      "weighted avg       0.69      0.39      0.23      1000\n",
      "\n"
     ]
    },
    {
     "data": {
      "image/png": "[encoded data removed]",
      "text/plain": [
       "<Figure size 432x360 with 2 Axes>"
      ]
     },
     "metadata": {
      "needs_background": "light"
     },
     "output_type": "display_data"
    }
   ],
   "source": [
    "source_model.eval()\n",
    "source_model.to(device)\n",
    "\n",
    "# Evaluate on source domain\n",
    "evaluate_model(source_model, val_loader_source, dataset_source.idx2label, device, name=\"Source Domain\")\n",
    "\n",
    "# Evaluate on target domain\n",
    "evaluate_model(source_model, val_loader_target, dataset_target.idx2label, device, name=\"Target Domain\")"
   ]
  },
  {
   "cell_type": "markdown",
   "metadata": {},
   "source": [
    "> #### 10. Testing different adaptation losses"
   ]
  },
  {
   "cell_type": "markdown",
   "metadata": {},
   "source": [
    "> #### 10.1 No Adaptation, baseline"
   ]
  },
  {
   "cell_type": "code",
   "execution_count": null,
   "metadata": {
    "tags": []
   },
   "outputs": [],
   "source": [
    "from training_with_logging import train_with_lambda_logging\n",
    "from plotting_alignment import plot_training_and_alignment, plot_per_class_recalls, plot_embeddings\n",
    "from metrics_alignment import compute_epoch_metrics\n",
    "from training_with_logging import train_with_lambda_logging\n",
    "from save_runs import save_end_of_run\n",
    "\n",
    "label2idx, idx2label = give_labels()\n",
    "class_names = tuple([c for c,_ in sorted(label2idx.items(), key=lambda kv: kv[1])])  # ('elliptical','irregular','spiral')\n",
    "\n",
    "# Model & optimizer constructors\n",
    "model_ctor     = lambda: CNN(num_classes=len(class_names)).to(device)\n",
    "optimizer_ctor = lambda params: torch.optim.AdamW(params, lr=1e-3, weight_decay=1e-4)\n",
    "\n",
    "# ---- Run the four methods (things to be varied: lambdas/blur/epochs) ----\n",
    "dfs = []\n",
    "\n",
    "# 0) No Adapt (baseline)\n",
    "df_no, model_no = train_with_lambda_logging(\n",
    "    lambda_val=0.0, method_name=\"NoAdapt\",\n",
    "    model_ctor=model_ctor, optimizer_ctor=optimizer_ctor,\n",
    "    train_loader_source=train_loader_source, train_loader_target=train_loader_target,\n",
    "    eval_loader_source=val_loader_source, eval_loader_target=val_loader_target,\n",
    "    device=device, num_epochs=10, blur=0.75, class_names=class_names\n",
    ")\n",
    "\n",
    "save_end_of_run(df_no, model_no, \"NoAdapt\", 0.0)\n",
    "dfs.append(df_no)"
   ]
  },
  {
   "cell_type": "markdown",
   "metadata": {},
   "source": [
    "> #### 10.2 MMD"
   ]
  },
  {
   "cell_type": "code",
   "execution_count": null,
   "metadata": {
    "tags": []
   },
   "outputs": [],
   "source": [
    "# 1) MMD (energy distance in training; MMD^2 computed in diagnostics)\n",
    "df_mmd, model_mmd = train_with_lambda_logging(\n",
    "    lambda_val=0.1, method_name=\"MMD\",\n",
    "    model_ctor=model_ctor, optimizer_ctor=optimizer_ctor,\n",
    "    train_loader_source=train_loader_source, train_loader_target=train_loader_target,\n",
    "    eval_loader_source=val_loader_source, eval_loader_target=val_loader_target,\n",
    "    device=device, num_epochs=10, blur=0.05, class_names=class_names\n",
    ")\n",
    "\n",
    "save_end_of_run(df_mmd, model_mmd, \"MMD\", 0.1)\n",
    "dfs.append(df_mmd)"
   ]
  },
  {
   "cell_type": "markdown",
   "metadata": {},
   "source": [
    "> #### 10.3 Sinkhorn (OT)"
   ]
  },
  {
   "cell_type": "code",
   "execution_count": null,
   "metadata": {
    "tags": []
   },
   "outputs": [],
   "source": [
    "# 2) Sinkhorn (OT)\n",
    "df_sk, model_sk = train_with_lambda_logging(\n",
    "    lambda_val=0.1, method_name=\"Sinkhorn\",\n",
    "    model_ctor=model_ctor, optimizer_ctor=optimizer_ctor,\n",
    "    train_loader_source=train_loader_source, train_loader_target=train_loader_target,\n",
    "    eval_loader_source=val_loader_source, eval_loader_target=val_loader_target,\n",
    "    device=device, num_epochs=10, blur=0.05, class_names=class_names\n",
    ")\n",
    "\n",
    "save_end_of_run(df_sk, model_sk, \"Sinkhorn\", 0.1)\n",
    "dfs.append(df_sk)"
   ]
  },
  {
   "cell_type": "markdown",
   "metadata": {},
   "source": [
    "> #### 10.4 DANN (adversarial)"
   ]
  },
  {
   "cell_type": "code",
   "execution_count": null,
   "metadata": {
    "tags": []
   },
   "outputs": [],
   "source": [
    "# 3) DANN (adversarial)\n",
    "df_dann, model_dann = train_with_lambda_logging(\n",
    "    lambda_val=0.1, method_name=\"DANN\",\n",
    "    model_ctor=model_ctor, optimizer_ctor=optimizer_ctor,\n",
    "    train_loader_source=train_loader_source, train_loader_target=train_loader_target,\n",
    "    eval_loader_source=val_loader_source, eval_loader_target=val_loader_target,\n",
    "    device=device, num_epochs=10, blur=0.05, class_names=class_names\n",
    ")\n",
    "\n",
    "save_end_of_run(df_dann, model_dann, \"DANN\", 0.1)\n",
    "dfs.append(df_dann)"
   ]
  },
  {
   "cell_type": "code",
   "execution_count": null,
   "metadata": {},
   "outputs": [],
   "source": [
    "all_dfs = pd.concat(dfs, ignore_index=True)\n",
    "all_dfs.to_csv(\"logs/all_methods_metrics.csv\", index=False)\n",
    "print(\"Saved combined metrics → logs/all_methods_metrics.csv\")"
   ]
  },
  {
   "cell_type": "markdown",
   "metadata": {},
   "source": [
    "> #### 10.5 Plot each technique"
   ]
  },
  {
   "cell_type": "code",
   "execution_count": null,
   "metadata": {
    "tags": []
   },
   "outputs": [],
   "source": [
    "plot_training_and_alignment(df_all, class_names=class_names, savepath=\"fig_training_alignment.pdf\")\n",
    "plot_per_class_recalls(df_all, class_names=class_names, savepath=\"fig_perclass.pdf\")\n",
    "\n",
    "embeds = {\n",
    "    \"NoAdapt\":  compute_epoch_metrics(model_no,   val_loader_source, val_loader_target, device=device, class_names=class_names)[\"embed\"],\n",
    "    \"MMD\":      compute_epoch_metrics(model_mmd,  val_loader_source, val_loader_target, device=device, class_names=class_names)[\"embed\"],\n",
    "    \"Sinkhorn\": compute_epoch_metrics(model_sk,   val_loader_source, val_loader_target, device=device, class_names=class_names)[\"embed\"],\n",
    "    \"DANN\":     compute_epoch_metrics(model_dann, val_loader_source, val_loader_target, device=device, class_names=class_names)[\"embed\"],\n",
    "}\n",
    "plot_embeddings(embeds, savepath=\"fig_embeddings.pdf\", class_names=class_names)"
   ]
  }
 ],
 "metadata": {
  "accelerator": "GPU",
  "colab": {
   "gpuType": "T4",
   "provenance": []
  },
  "kernelspec": {
   "display_name": "Python 3",
   "language": "python",
   "name": "python3"
  },
  "language_info": {
   "codemirror_mode": {
    "name": "ipython",
    "version": 3
   },
   "file_extension": ".py",
   "mimetype": "text/x-python",
   "name": "python",
   "nbconvert_exporter": "python",
   "pygments_lexer": "ipython3",
   "version": "3.8.8"
  }
 },
 "nbformat": 4,
 "nbformat_minor": 4
}
